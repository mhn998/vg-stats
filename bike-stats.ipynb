{
 "metadata": {
  "language_info": {
   "codemirror_mode": {
    "name": "ipython",
    "version": 3
   },
   "file_extension": ".py",
   "mimetype": "text/x-python",
   "name": "python",
   "nbconvert_exporter": "python",
   "pygments_lexer": "ipython3",
   "version": "3.9.5"
  },
  "orig_nbformat": 2,
  "kernelspec": {
   "name": "pythonjvsc74a57bd0b15a099cbd6213096509460182da2fdf1dd5da4e49b34ceb568291ccdec4bd7c",
   "display_name": "Python 3.9.5  ('.venv': venv)"
  },
  "metadata": {
   "interpreter": {
    "hash": "b15a099cbd6213096509460182da2fdf1dd5da4e49b34ceb568291ccdec4bd7c"
   }
  }
 },
 "nbformat": 4,
 "nbformat_minor": 2,
 "cells": [
  {
   "cell_type": "code",
   "execution_count": 13,
   "metadata": {},
   "outputs": [
    {
     "output_type": "stream",
     "name": "stderr",
     "text": [
      "b'Skipping line 50794: expected 12 fields, saw 20\\n'\n"
     ]
    },
    {
     "output_type": "execute_result",
     "data": {
      "text/plain": [
       "        trip_id         starttime          stoptime    bikeid  tripduration  \\\n",
       "0           431  10/13/2014 10:31  10/13/2014 10:48  SEA00298       985.935   \n",
       "1           432  10/13/2014 10:32  10/13/2014 10:48  SEA00195       926.375   \n",
       "2           433  10/13/2014 10:33  10/13/2014 10:48  SEA00486       883.831   \n",
       "3           434  10/13/2014 10:34  10/13/2014 10:48  SEA00333       865.937   \n",
       "4           435  10/13/2014 10:34  10/13/2014 10:49  SEA00202       923.923   \n",
       "...         ...               ...               ...       ...           ...   \n",
       "286852   255241   8/31/2016 23:34   8/31/2016 23:45  SEA00201       679.532   \n",
       "286853   255242   8/31/2016 23:48     9/1/2016 0:20  SEA00247      1965.418   \n",
       "286854   255243   8/31/2016 23:47     9/1/2016 0:20  SEA00300      1951.173   \n",
       "286855   255244   8/31/2016 23:49     9/1/2016 0:20  SEA00047      1883.299   \n",
       "286856   255245   8/31/2016 23:49     9/1/2016 0:20  SEA00442      1896.031   \n",
       "\n",
       "                             from_station_name  \\\n",
       "0                          2nd Ave & Spring St   \n",
       "1                          2nd Ave & Spring St   \n",
       "2                          2nd Ave & Spring St   \n",
       "3                          2nd Ave & Spring St   \n",
       "4                          2nd Ave & Spring St   \n",
       "...                                        ...   \n",
       "286852                 Harvard Ave & E Pine St   \n",
       "286853  Cal Anderson Park / 11th Ave & Pine St   \n",
       "286854  Cal Anderson Park / 11th Ave & Pine St   \n",
       "286855  Cal Anderson Park / 11th Ave & Pine St   \n",
       "286856  Cal Anderson Park / 11th Ave & Pine St   \n",
       "\n",
       "                                          to_station_name from_station_id  \\\n",
       "0       Occidental Park / Occidental Ave S & S Washing...          CBD-06   \n",
       "1       Occidental Park / Occidental Ave S & S Washing...          CBD-06   \n",
       "2       Occidental Park / Occidental Ave S & S Washing...          CBD-06   \n",
       "3       Occidental Park / Occidental Ave S & S Washing...          CBD-06   \n",
       "4       Occidental Park / Occidental Ave S & S Washing...          CBD-06   \n",
       "...                                                   ...             ...   \n",
       "286852                                2nd Ave & Spring St           CH-09   \n",
       "286853                              6th Ave S & S King St           CH-08   \n",
       "286854                              6th Ave S & S King St           CH-08   \n",
       "286855                              6th Ave S & S King St           CH-08   \n",
       "286856                              6th Ave S & S King St           CH-08   \n",
       "\n",
       "       to_station_id                usertype  gender  birthyear  \n",
       "0              PS-04                  Member    Male     1960.0  \n",
       "1              PS-04                  Member    Male     1970.0  \n",
       "2              PS-04                  Member  Female     1988.0  \n",
       "3              PS-04                  Member  Female     1977.0  \n",
       "4              PS-04                  Member    Male     1971.0  \n",
       "...              ...                     ...     ...        ...  \n",
       "286852        CBD-06  Short-Term Pass Holder     NaN        NaN  \n",
       "286853         ID-04  Short-Term Pass Holder     NaN        NaN  \n",
       "286854         ID-04  Short-Term Pass Holder     NaN        NaN  \n",
       "286855         ID-04  Short-Term Pass Holder     NaN        NaN  \n",
       "286856         ID-04  Short-Term Pass Holder     NaN        NaN  \n",
       "\n",
       "[286857 rows x 12 columns]"
      ],
      "text/html": "<div>\n<style scoped>\n    .dataframe tbody tr th:only-of-type {\n        vertical-align: middle;\n    }\n\n    .dataframe tbody tr th {\n        vertical-align: top;\n    }\n\n    .dataframe thead th {\n        text-align: right;\n    }\n</style>\n<table border=\"1\" class=\"dataframe\">\n  <thead>\n    <tr style=\"text-align: right;\">\n      <th></th>\n      <th>trip_id</th>\n      <th>starttime</th>\n      <th>stoptime</th>\n      <th>bikeid</th>\n      <th>tripduration</th>\n      <th>from_station_name</th>\n      <th>to_station_name</th>\n      <th>from_station_id</th>\n      <th>to_station_id</th>\n      <th>usertype</th>\n      <th>gender</th>\n      <th>birthyear</th>\n    </tr>\n  </thead>\n  <tbody>\n    <tr>\n      <th>0</th>\n      <td>431</td>\n      <td>10/13/2014 10:31</td>\n      <td>10/13/2014 10:48</td>\n      <td>SEA00298</td>\n      <td>985.935</td>\n      <td>2nd Ave &amp; Spring St</td>\n      <td>Occidental Park / Occidental Ave S &amp; S Washing...</td>\n      <td>CBD-06</td>\n      <td>PS-04</td>\n      <td>Member</td>\n      <td>Male</td>\n      <td>1960.0</td>\n    </tr>\n    <tr>\n      <th>1</th>\n      <td>432</td>\n      <td>10/13/2014 10:32</td>\n      <td>10/13/2014 10:48</td>\n      <td>SEA00195</td>\n      <td>926.375</td>\n      <td>2nd Ave &amp; Spring St</td>\n      <td>Occidental Park / Occidental Ave S &amp; S Washing...</td>\n      <td>CBD-06</td>\n      <td>PS-04</td>\n      <td>Member</td>\n      <td>Male</td>\n      <td>1970.0</td>\n    </tr>\n    <tr>\n      <th>2</th>\n      <td>433</td>\n      <td>10/13/2014 10:33</td>\n      <td>10/13/2014 10:48</td>\n      <td>SEA00486</td>\n      <td>883.831</td>\n      <td>2nd Ave &amp; Spring St</td>\n      <td>Occidental Park / Occidental Ave S &amp; S Washing...</td>\n      <td>CBD-06</td>\n      <td>PS-04</td>\n      <td>Member</td>\n      <td>Female</td>\n      <td>1988.0</td>\n    </tr>\n    <tr>\n      <th>3</th>\n      <td>434</td>\n      <td>10/13/2014 10:34</td>\n      <td>10/13/2014 10:48</td>\n      <td>SEA00333</td>\n      <td>865.937</td>\n      <td>2nd Ave &amp; Spring St</td>\n      <td>Occidental Park / Occidental Ave S &amp; S Washing...</td>\n      <td>CBD-06</td>\n      <td>PS-04</td>\n      <td>Member</td>\n      <td>Female</td>\n      <td>1977.0</td>\n    </tr>\n    <tr>\n      <th>4</th>\n      <td>435</td>\n      <td>10/13/2014 10:34</td>\n      <td>10/13/2014 10:49</td>\n      <td>SEA00202</td>\n      <td>923.923</td>\n      <td>2nd Ave &amp; Spring St</td>\n      <td>Occidental Park / Occidental Ave S &amp; S Washing...</td>\n      <td>CBD-06</td>\n      <td>PS-04</td>\n      <td>Member</td>\n      <td>Male</td>\n      <td>1971.0</td>\n    </tr>\n    <tr>\n      <th>...</th>\n      <td>...</td>\n      <td>...</td>\n      <td>...</td>\n      <td>...</td>\n      <td>...</td>\n      <td>...</td>\n      <td>...</td>\n      <td>...</td>\n      <td>...</td>\n      <td>...</td>\n      <td>...</td>\n      <td>...</td>\n    </tr>\n    <tr>\n      <th>286852</th>\n      <td>255241</td>\n      <td>8/31/2016 23:34</td>\n      <td>8/31/2016 23:45</td>\n      <td>SEA00201</td>\n      <td>679.532</td>\n      <td>Harvard Ave &amp; E Pine St</td>\n      <td>2nd Ave &amp; Spring St</td>\n      <td>CH-09</td>\n      <td>CBD-06</td>\n      <td>Short-Term Pass Holder</td>\n      <td>NaN</td>\n      <td>NaN</td>\n    </tr>\n    <tr>\n      <th>286853</th>\n      <td>255242</td>\n      <td>8/31/2016 23:48</td>\n      <td>9/1/2016 0:20</td>\n      <td>SEA00247</td>\n      <td>1965.418</td>\n      <td>Cal Anderson Park / 11th Ave &amp; Pine St</td>\n      <td>6th Ave S &amp; S King St</td>\n      <td>CH-08</td>\n      <td>ID-04</td>\n      <td>Short-Term Pass Holder</td>\n      <td>NaN</td>\n      <td>NaN</td>\n    </tr>\n    <tr>\n      <th>286854</th>\n      <td>255243</td>\n      <td>8/31/2016 23:47</td>\n      <td>9/1/2016 0:20</td>\n      <td>SEA00300</td>\n      <td>1951.173</td>\n      <td>Cal Anderson Park / 11th Ave &amp; Pine St</td>\n      <td>6th Ave S &amp; S King St</td>\n      <td>CH-08</td>\n      <td>ID-04</td>\n      <td>Short-Term Pass Holder</td>\n      <td>NaN</td>\n      <td>NaN</td>\n    </tr>\n    <tr>\n      <th>286855</th>\n      <td>255244</td>\n      <td>8/31/2016 23:49</td>\n      <td>9/1/2016 0:20</td>\n      <td>SEA00047</td>\n      <td>1883.299</td>\n      <td>Cal Anderson Park / 11th Ave &amp; Pine St</td>\n      <td>6th Ave S &amp; S King St</td>\n      <td>CH-08</td>\n      <td>ID-04</td>\n      <td>Short-Term Pass Holder</td>\n      <td>NaN</td>\n      <td>NaN</td>\n    </tr>\n    <tr>\n      <th>286856</th>\n      <td>255245</td>\n      <td>8/31/2016 23:49</td>\n      <td>9/1/2016 0:20</td>\n      <td>SEA00442</td>\n      <td>1896.031</td>\n      <td>Cal Anderson Park / 11th Ave &amp; Pine St</td>\n      <td>6th Ave S &amp; S King St</td>\n      <td>CH-08</td>\n      <td>ID-04</td>\n      <td>Short-Term Pass Holder</td>\n      <td>NaN</td>\n      <td>NaN</td>\n    </tr>\n  </tbody>\n</table>\n<p>286857 rows × 12 columns</p>\n</div>"
     },
     "metadata": {},
     "execution_count": 13
    }
   ],
   "source": [
    "import pandas as pd\n",
    "import datetime\n",
    "df_trip = pd.read_csv('./trip.csv',error_bad_lines=False)\n",
    "df_trip"
   ]
  },
  {
   "source": [
    "### What is the average trip duration for a borrowed bicycle?"
   ],
   "cell_type": "markdown",
   "metadata": {}
  },
  {
   "cell_type": "code",
   "execution_count": 16,
   "metadata": {},
   "outputs": [
    {
     "output_type": "execute_result",
     "data": {
      "text/plain": [
       "1178.2956753399776"
      ]
     },
     "metadata": {},
     "execution_count": 16
    }
   ],
   "source": [
    "avg_trip =df_trip[['tripduration']].mean()[0]\n",
    "avg_trip"
   ]
  },
  {
   "source": [
    "### What’s the most common age of a bicycle-sharer?"
   ],
   "cell_type": "markdown",
   "metadata": {}
  },
  {
   "cell_type": "code",
   "execution_count": 20,
   "metadata": {},
   "outputs": [
    {
     "output_type": "execute_result",
     "data": {
      "text/plain": [
       "33.0"
      ]
     },
     "metadata": {},
     "execution_count": 20
    }
   ],
   "source": [
    "most_common_age =df_trip[['birthyear']].value_counts().idxmax()[0]\n",
    "most_common_age = 2020 - most_common_age\n",
    "most_common_age"
   ]
  },
  {
   "source": [
    "### Given all the weather data here, find the average precipitation per month, and the median precipitation."
   ],
   "cell_type": "markdown",
   "metadata": {}
  },
  {
   "cell_type": "code",
   "execution_count": 22,
   "metadata": {},
   "outputs": [
    {
     "output_type": "stream",
     "name": "stdout",
     "text": [
      "       Precipitation_In\nmonth                  \n1              0.143548\n2              0.168421\n3              0.156935\n4              0.051333\n5              0.012419\n6              0.030500\n7              0.012097\n8              0.018226\n9              0.041000\n10             0.189000\n11             0.187833\n12             0.236290\n"
     ]
    },
    {
     "output_type": "execute_result",
     "data": {
      "text/plain": [
       "       Precipitation_In\n",
       "month                  \n",
       "1                 0.020\n",
       "2                 0.040\n",
       "3                 0.025\n",
       "4                 0.000\n",
       "5                 0.000\n",
       "6                 0.000\n",
       "7                 0.000\n",
       "8                 0.000\n",
       "9                 0.000\n",
       "10                0.040\n",
       "11                0.035\n",
       "12                0.100"
      ],
      "text/html": "<div>\n<style scoped>\n    .dataframe tbody tr th:only-of-type {\n        vertical-align: middle;\n    }\n\n    .dataframe tbody tr th {\n        vertical-align: top;\n    }\n\n    .dataframe thead th {\n        text-align: right;\n    }\n</style>\n<table border=\"1\" class=\"dataframe\">\n  <thead>\n    <tr style=\"text-align: right;\">\n      <th></th>\n      <th>Precipitation_In</th>\n    </tr>\n    <tr>\n      <th>month</th>\n      <th></th>\n    </tr>\n  </thead>\n  <tbody>\n    <tr>\n      <th>1</th>\n      <td>0.020</td>\n    </tr>\n    <tr>\n      <th>2</th>\n      <td>0.040</td>\n    </tr>\n    <tr>\n      <th>3</th>\n      <td>0.025</td>\n    </tr>\n    <tr>\n      <th>4</th>\n      <td>0.000</td>\n    </tr>\n    <tr>\n      <th>5</th>\n      <td>0.000</td>\n    </tr>\n    <tr>\n      <th>6</th>\n      <td>0.000</td>\n    </tr>\n    <tr>\n      <th>7</th>\n      <td>0.000</td>\n    </tr>\n    <tr>\n      <th>8</th>\n      <td>0.000</td>\n    </tr>\n    <tr>\n      <th>9</th>\n      <td>0.000</td>\n    </tr>\n    <tr>\n      <th>10</th>\n      <td>0.040</td>\n    </tr>\n    <tr>\n      <th>11</th>\n      <td>0.035</td>\n    </tr>\n    <tr>\n      <th>12</th>\n      <td>0.100</td>\n    </tr>\n  </tbody>\n</table>\n</div>"
     },
     "metadata": {},
     "execution_count": 22
    }
   ],
   "source": [
    "df_weather = pd.read_csv('./weather.csv',error_bad_lines=False)\n",
    "\n",
    "# adding new column for the month\n",
    "df_weather['month'] = pd.DatetimeIndex(df_weather['Date']).month\n",
    "\n",
    "# grouping by month\n",
    "average_per_month=df_weather.groupby(['month']).mean()[['Precipitation_In']]\n",
    "median_per_month= df_weather.groupby(['month']).median()[['Precipitation_In']]\n",
    "\n",
    "print(average_per_month)\n",
    "median_per_month"
   ]
  },
  {
   "source": [
    "### What’s the average number of bikes at a given bike station?"
   ],
   "cell_type": "markdown",
   "metadata": {}
  },
  {
   "cell_type": "code",
   "execution_count": 6,
   "metadata": {},
   "outputs": [
    {
     "output_type": "execute_result",
     "data": {
      "text/plain": [
       "17.74074074074074"
      ]
     },
     "metadata": {},
     "execution_count": 6
    }
   ],
   "source": [
    "df_station = pd.read_csv('./station.csv',error_bad_lines=False)\n",
    "station_counts = df_station[df_station[\"decommission_date\"].isnull()]\n",
    "average = station_counts['current_dockcount'].mean()\n",
    "average"
   ]
  },
  {
   "source": [
    "### When a bike station is modified, is it more likely that it’ll lose bikes or gain bikes? How do you know?"
   ],
   "cell_type": "markdown",
   "metadata": {}
  },
  {
   "cell_type": "code",
   "execution_count": 9,
   "metadata": {},
   "outputs": [
    {
     "output_type": "execute_result",
     "data": {
      "text/plain": [
       "-3.263157894736842"
      ]
     },
     "metadata": {},
     "execution_count": 9
    }
   ],
   "source": [
    "df_station = pd.read_csv(\"./station.csv\")\n",
    "df_station = df_station.assign(lost = lambda x: x[\"current_dockcount\"] - x['install_dockcount'])\n",
    "lost = df_station[df_station['lost'] != 0][['name',\"install_dockcount\",'current_dockcount','lost']]\n",
    "lost[\"lost\"].mean()\n"
   ]
  },
  {
   "source": [
    "Lose , because when comparing current bikes with installed bikes after modification the answer will be negative "
   ],
   "cell_type": "markdown",
   "metadata": {}
  },
  {
   "source": [
    "### Come up with 3 more questions that can be answered with this data set."
   ],
   "cell_type": "markdown",
   "metadata": {}
  },
  {
   "cell_type": "code",
   "execution_count": 29,
   "metadata": {},
   "outputs": [
    {
     "output_type": "execute_result",
     "data": {
      "text/plain": [
       "           Date  Max_Temperature_F  Mean_Temperature_F  Min_TemperatureF  \\\n",
       "446    1/2/2016                 44                34.0                23   \n",
       "445    1/1/2016                 44                34.0                25   \n",
       "411  11/28/2015                 46                36.0                26   \n",
       "50    12/2/2014                 44                35.0                26   \n",
       "79   12/31/2014                 41                34.0                26   \n",
       "\n",
       "     Max_Dew_Point_F  MeanDew_Point_F  Min_Dewpoint_F  Max_Humidity  \\\n",
       "446               30               23              13            96   \n",
       "445               30               25              21            92   \n",
       "411               31               26              21            86   \n",
       "50                28               26              21            82   \n",
       "79                25               22              18            78   \n",
       "\n",
       "     Mean_Humidity  Min_Humidity  ...  Max_Visibility_Miles  \\\n",
       "446             73            33  ...                    10   \n",
       "445             76            43  ...                    10   \n",
       "411             75            50  ...                    10   \n",
       "50              68            49  ...                    10   \n",
       "79              60            41  ...                    10   \n",
       "\n",
       "     Mean_Visibility_Miles  Min_Visibility_Miles  Max_Wind_Speed_MPH  \\\n",
       "446                      9                     6                   8   \n",
       "445                     10                     6                   5   \n",
       "411                      8                     2                   6   \n",
       "50                      10                     9                   8   \n",
       "79                      10                    10                   7   \n",
       "\n",
       "     Mean_Wind_Speed_MPH  Max_Gust_Speed_MPH  Precipitation_In  Events month  \\\n",
       "446                    2                 NaN               0.0     NaN     1   \n",
       "445                    1                 NaN               0.0     NaN     1   \n",
       "411                    1                 NaN               0.0    Snow    11   \n",
       "50                     3                   -               0.0     NaN    12   \n",
       "79                     2                   -               0.0     NaN    12   \n",
       "\n",
       "     year  \n",
       "446  2016  \n",
       "445  2016  \n",
       "411  2015  \n",
       "50   2014  \n",
       "79   2014  \n",
       "\n",
       "[5 rows x 23 columns]"
      ],
      "text/html": "<div>\n<style scoped>\n    .dataframe tbody tr th:only-of-type {\n        vertical-align: middle;\n    }\n\n    .dataframe tbody tr th {\n        vertical-align: top;\n    }\n\n    .dataframe thead th {\n        text-align: right;\n    }\n</style>\n<table border=\"1\" class=\"dataframe\">\n  <thead>\n    <tr style=\"text-align: right;\">\n      <th></th>\n      <th>Date</th>\n      <th>Max_Temperature_F</th>\n      <th>Mean_Temperature_F</th>\n      <th>Min_TemperatureF</th>\n      <th>Max_Dew_Point_F</th>\n      <th>MeanDew_Point_F</th>\n      <th>Min_Dewpoint_F</th>\n      <th>Max_Humidity</th>\n      <th>Mean_Humidity</th>\n      <th>Min_Humidity</th>\n      <th>...</th>\n      <th>Max_Visibility_Miles</th>\n      <th>Mean_Visibility_Miles</th>\n      <th>Min_Visibility_Miles</th>\n      <th>Max_Wind_Speed_MPH</th>\n      <th>Mean_Wind_Speed_MPH</th>\n      <th>Max_Gust_Speed_MPH</th>\n      <th>Precipitation_In</th>\n      <th>Events</th>\n      <th>month</th>\n      <th>year</th>\n    </tr>\n  </thead>\n  <tbody>\n    <tr>\n      <th>446</th>\n      <td>1/2/2016</td>\n      <td>44</td>\n      <td>34.0</td>\n      <td>23</td>\n      <td>30</td>\n      <td>23</td>\n      <td>13</td>\n      <td>96</td>\n      <td>73</td>\n      <td>33</td>\n      <td>...</td>\n      <td>10</td>\n      <td>9</td>\n      <td>6</td>\n      <td>8</td>\n      <td>2</td>\n      <td>NaN</td>\n      <td>0.0</td>\n      <td>NaN</td>\n      <td>1</td>\n      <td>2016</td>\n    </tr>\n    <tr>\n      <th>445</th>\n      <td>1/1/2016</td>\n      <td>44</td>\n      <td>34.0</td>\n      <td>25</td>\n      <td>30</td>\n      <td>25</td>\n      <td>21</td>\n      <td>92</td>\n      <td>76</td>\n      <td>43</td>\n      <td>...</td>\n      <td>10</td>\n      <td>10</td>\n      <td>6</td>\n      <td>5</td>\n      <td>1</td>\n      <td>NaN</td>\n      <td>0.0</td>\n      <td>NaN</td>\n      <td>1</td>\n      <td>2016</td>\n    </tr>\n    <tr>\n      <th>411</th>\n      <td>11/28/2015</td>\n      <td>46</td>\n      <td>36.0</td>\n      <td>26</td>\n      <td>31</td>\n      <td>26</td>\n      <td>21</td>\n      <td>86</td>\n      <td>75</td>\n      <td>50</td>\n      <td>...</td>\n      <td>10</td>\n      <td>8</td>\n      <td>2</td>\n      <td>6</td>\n      <td>1</td>\n      <td>NaN</td>\n      <td>0.0</td>\n      <td>Snow</td>\n      <td>11</td>\n      <td>2015</td>\n    </tr>\n    <tr>\n      <th>50</th>\n      <td>12/2/2014</td>\n      <td>44</td>\n      <td>35.0</td>\n      <td>26</td>\n      <td>28</td>\n      <td>26</td>\n      <td>21</td>\n      <td>82</td>\n      <td>68</td>\n      <td>49</td>\n      <td>...</td>\n      <td>10</td>\n      <td>10</td>\n      <td>9</td>\n      <td>8</td>\n      <td>3</td>\n      <td>-</td>\n      <td>0.0</td>\n      <td>NaN</td>\n      <td>12</td>\n      <td>2014</td>\n    </tr>\n    <tr>\n      <th>79</th>\n      <td>12/31/2014</td>\n      <td>41</td>\n      <td>34.0</td>\n      <td>26</td>\n      <td>25</td>\n      <td>22</td>\n      <td>18</td>\n      <td>78</td>\n      <td>60</td>\n      <td>41</td>\n      <td>...</td>\n      <td>10</td>\n      <td>10</td>\n      <td>10</td>\n      <td>7</td>\n      <td>2</td>\n      <td>-</td>\n      <td>0.0</td>\n      <td>NaN</td>\n      <td>12</td>\n      <td>2014</td>\n    </tr>\n  </tbody>\n</table>\n<p>5 rows × 23 columns</p>\n</div>"
     },
     "metadata": {},
     "execution_count": 29
    }
   ],
   "source": [
    "# what was the 5 least temperature ?\n",
    "least_temp = df_weather.sort_values(\"Min_TemperatureF\",ascending=True).head(5)\n",
    "least_temp"
   ]
  },
  {
   "cell_type": "code",
   "execution_count": 10,
   "metadata": {},
   "outputs": [
    {
     "output_type": "execute_result",
     "data": {
      "text/plain": [
       "17.586206896551722"
      ]
     },
     "metadata": {},
     "execution_count": 10
    }
   ],
   "source": [
    "# What’s the average number of bikes in a station ?\n",
    "avg_bike = df_station[\"install_dockcount\"].mean()\n",
    "avg_bike"
   ]
  },
  {
   "cell_type": "code",
   "execution_count": 42,
   "metadata": {},
   "outputs": [
    {
     "output_type": "execute_result",
     "data": {
      "text/plain": [
       "28794.398"
      ]
     },
     "metadata": {},
     "execution_count": 42
    }
   ],
   "source": [
    "# what is the longest trip duration ?\n",
    "longest_trip = df_trip['tripduration'].max()\n",
    "longest_trip"
   ]
  },
  {
   "cell_type": "code",
   "execution_count": 35,
   "metadata": {},
   "outputs": [
    {
     "output_type": "stream",
     "name": "stdout",
     "text": [
      "Success!!!\n"
     ]
    }
   ],
   "source": [
    "def test():\n",
    "\n",
    "    def assert_equal(actual,expected):\n",
    "        assert actual == expected, f\"Expected {expected} but got {actual}\"\n",
    "\n",
    "    assert_equal(avg_trip, 1178.2956753399776)\n",
    "    assert_equal(most_common_age, 33.0)\n",
    "    assert_equal(avg_bike, 17.586206896551722)\n",
    "\n",
    "    print(\"Success!!!\")\n",
    "\n",
    "test()"
   ]
  },
  {
   "cell_type": "code",
   "execution_count": null,
   "metadata": {},
   "outputs": [],
   "source": []
  }
 ]
}